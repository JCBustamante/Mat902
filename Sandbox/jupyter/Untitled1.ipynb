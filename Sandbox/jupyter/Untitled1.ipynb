{
 "cells": [
  {
   "cell_type": "code",
   "execution_count": 1,
   "metadata": {},
   "outputs": [],
   "source": [
    "%display typeset"
   ]
  },
  {
   "cell_type": "code",
   "execution_count": 22,
   "metadata": {},
   "outputs": [
    {
     "data": {
      "text/html": [
       "<html>\\[\\newcommand{\\Bold}[1]{\\mathbf{#1}}\\left(\\begin{array}{rrrrrr}\n",
       "1 & 1 & 0 & 0 & 0 & a \\\\\n",
       "0 & 1 & 1 & -1 & 0 & b \\\\\n",
       "0 & 0 & 0 & 1 & 1 & c \\\\\n",
       "1 & 0 & -1 & 0 & -1 & -d\n",
       "\\end{array}\\right)\\]</html>"
      ],
      "text/latex": [
       "$$\\newcommand{\\Bold}[1]{\\mathbf{#1}}\\left(\\begin{array}{rrrrrr}\n",
       "1 & 1 & 0 & 0 & 0 & a \\\\\n",
       "0 & 1 & 1 & -1 & 0 & b \\\\\n",
       "0 & 0 & 0 & 1 & 1 & c \\\\\n",
       "1 & 0 & -1 & 0 & -1 & -d\n",
       "\\end{array}\\right)$$"
      ],
      "text/plain": [
       "[ 1  1  0  0  0  a]\n",
       "[ 0  1  1 -1  0  b]\n",
       "[ 0  0  0  1  1  c]\n",
       "[ 1  0 -1  0 -1 -d]"
      ]
     },
     "execution_count": 22,
     "metadata": {},
     "output_type": "execute_result"
    }
   ],
   "source": [
    "var('a,b,c,d')\n",
    "M=matrix([[1,1,0,0,0,a],[0,1,1,-1,0,b],[0,0,0,1,1,c],[1,0,-1,0,-1, -d]])\n",
    "M"
   ]
  },
  {
   "cell_type": "code",
   "execution_count": 23,
   "metadata": {},
   "outputs": [
    {
     "data": {
      "text/html": [
       "<html>\\[\\newcommand{\\Bold}[1]{\\mathbf{#1}}\\left(\\begin{array}{rrrrrr}\n",
       "1 & 1 & 0 & 0 & 0 & a \\\\\n",
       "0 & 1 & 1 & -1 & 0 & b \\\\\n",
       "0 & 0 & 0 & 1 & 1 & c \\\\\n",
       "0 & -1 & -1 & 0 & -1 & -a - d\n",
       "\\end{array}\\right)\\]</html>"
      ],
      "text/latex": [
       "$$\\newcommand{\\Bold}[1]{\\mathbf{#1}}\\left(\\begin{array}{rrrrrr}\n",
       "1 & 1 & 0 & 0 & 0 & a \\\\\n",
       "0 & 1 & 1 & -1 & 0 & b \\\\\n",
       "0 & 0 & 0 & 1 & 1 & c \\\\\n",
       "0 & -1 & -1 & 0 & -1 & -a - d\n",
       "\\end{array}\\right)$$"
      ],
      "text/plain": [
       "[     1      1      0      0      0      a]\n",
       "[     0      1      1     -1      0      b]\n",
       "[     0      0      0      1      1      c]\n",
       "[     0     -1     -1      0     -1 -a - d]"
      ]
     },
     "execution_count": 23,
     "metadata": {},
     "output_type": "execute_result"
    }
   ],
   "source": [
    "M1 = M.with_added_multiple_of_row(3,0,-1)\n",
    "M1"
   ]
  },
  {
   "cell_type": "code",
   "execution_count": 25,
   "metadata": {},
   "outputs": [
    {
     "data": {
      "text/html": [
       "<html>\\[\\newcommand{\\Bold}[1]{\\mathbf{#1}}\\left(\\begin{array}{rrrrrr}\n",
       "1 & 0 & -1 & 1 & 0 & a - b \\\\\n",
       "0 & 1 & 1 & -1 & 0 & b \\\\\n",
       "0 & 0 & 0 & 1 & 1 & c \\\\\n",
       "0 & 0 & 0 & -1 & -1 & -a + b - d\n",
       "\\end{array}\\right)\\]</html>"
      ],
      "text/latex": [
       "$$\\newcommand{\\Bold}[1]{\\mathbf{#1}}\\left(\\begin{array}{rrrrrr}\n",
       "1 & 0 & -1 & 1 & 0 & a - b \\\\\n",
       "0 & 1 & 1 & -1 & 0 & b \\\\\n",
       "0 & 0 & 0 & 1 & 1 & c \\\\\n",
       "0 & 0 & 0 & -1 & -1 & -a + b - d\n",
       "\\end{array}\\right)$$"
      ],
      "text/plain": [
       "[         1          0         -1          1          0      a - b]\n",
       "[         0          1          1         -1          0          b]\n",
       "[         0          0          0          1          1          c]\n",
       "[         0          0          0         -1         -1 -a + b - d]"
      ]
     },
     "execution_count": 25,
     "metadata": {},
     "output_type": "execute_result"
    }
   ],
   "source": [
    "M2 = M1 .with_added_multiple_of_row(0,1,-1)\n",
    "M2 = M2.with_added_multiple_of_row(3,1,1)\n",
    "M2"
   ]
  },
  {
   "cell_type": "code",
   "execution_count": 27,
   "metadata": {},
   "outputs": [
    {
     "data": {
      "text/html": [
       "<html>\\[\\newcommand{\\Bold}[1]{\\mathbf{#1}}\\left(\\begin{array}{rrrrrr}\n",
       "1 & 0 & -1 & 0 & -1 & a - b - c \\\\\n",
       "0 & 1 & 1 & 0 & 1 & b + c \\\\\n",
       "0 & 0 & 0 & 1 & 1 & c \\\\\n",
       "0 & 0 & 0 & 0 & 0 & -a + b + c - d\n",
       "\\end{array}\\right)\\]</html>"
      ],
      "text/latex": [
       "$$\\newcommand{\\Bold}[1]{\\mathbf{#1}}\\left(\\begin{array}{rrrrrr}\n",
       "1 & 0 & -1 & 0 & -1 & a - b - c \\\\\n",
       "0 & 1 & 1 & 0 & 1 & b + c \\\\\n",
       "0 & 0 & 0 & 1 & 1 & c \\\\\n",
       "0 & 0 & 0 & 0 & 0 & -a + b + c - d\n",
       "\\end{array}\\right)$$"
      ],
      "text/plain": [
       "[             1              0             -1              0             -1      a - b - c]\n",
       "[             0              1              1              0              1          b + c]\n",
       "[             0              0              0              1              1              c]\n",
       "[             0              0              0              0              0 -a + b + c - d]"
      ]
     },
     "execution_count": 27,
     "metadata": {},
     "output_type": "execute_result"
    }
   ],
   "source": [
    "M3 = M2.with_added_multiple_of_row(0,2,-1)\n",
    "M3 = M3.with_added_multiple_of_row(1,2,1)\n",
    "M3 = M3.with_added_multiple_of_row(3,2,1)\n",
    "M3"
   ]
  },
  {
   "cell_type": "code",
   "execution_count": null,
   "metadata": {},
   "outputs": [],
   "source": []
  }
 ],
 "metadata": {
  "kernelspec": {
   "display_name": "SageMath 9.4",
   "language": "sage",
   "name": "sagemath"
  },
  "language_info": {
   "codemirror_mode": {
    "name": "ipython",
    "version": 3
   },
   "file_extension": ".py",
   "mimetype": "text/x-python",
   "name": "python",
   "nbconvert_exporter": "python",
   "pygments_lexer": "ipython3",
   "version": "3.8.10"
  }
 },
 "nbformat": 4,
 "nbformat_minor": 4
}
