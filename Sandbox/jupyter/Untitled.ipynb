{
 "cells": [
  {
   "cell_type": "code",
   "execution_count": 2,
   "metadata": {},
   "outputs": [
    {
     "data": {
      "text/html": [
       "<html><script type=\"math/tex; mode=display\">\\newcommand{\\Bold}[1]{\\mathbf{#1}}\\left(3,\\,-5,\\,1\\right)</script></html>"
      ],
      "text/plain": [
       "(3, -5, 1)"
      ]
     },
     "execution_count": 2,
     "metadata": {},
     "output_type": "execute_result"
    }
   ],
   "source": [
    "%display typeset\n",
    "p=vector([1,3,1])\n",
    "q=vector([4,-2,2])\n",
    "r=vector([3,5,-1])\n",
    "pq = q-p\n",
    "pr = r-p\n",
    "pq"
   ]
  },
  {
   "cell_type": "code",
   "execution_count": 3,
   "metadata": {},
   "outputs": [
    {
     "data": {
      "text/html": [
       "<html><script type=\"math/tex; mode=display\">\\newcommand{\\Bold}[1]{\\mathbf{#1}}\\left(2,\\,2,\\,-2\\right)</script></html>"
      ],
      "text/plain": [
       "(2, 2, -2)"
      ]
     },
     "execution_count": 3,
     "metadata": {},
     "output_type": "execute_result"
    }
   ],
   "source": [
    "pr"
   ]
  },
  {
   "cell_type": "code",
   "execution_count": 4,
   "metadata": {},
   "outputs": [
    {
     "data": {
      "text/html": [
       "<html><script type=\"math/tex; mode=display\">\\newcommand{\\Bold}[1]{\\mathbf{#1}}\\left(2,\\,2,\\,1\\right)</script></html>"
      ],
      "text/plain": [
       "(2, 2, 1)"
      ]
     },
     "execution_count": 4,
     "metadata": {},
     "output_type": "execute_result"
    }
   ],
   "source": [
    "d1= vector([1,-2,2])\n",
    "d2 = vector([-1,1,0])\n",
    "n = -d1.cross_product(d2)\n",
    "n"
   ]
  },
  {
   "cell_type": "code",
   "execution_count": 5,
   "metadata": {},
   "outputs": [
    {
     "data": {
      "text/html": [
       "<html><script type=\"math/tex; mode=display\">\\newcommand{\\Bold}[1]{\\mathbf{#1}}\\left[\\right]</script></html>"
      ],
      "text/plain": [
       "[]"
      ]
     },
     "execution_count": 5,
     "metadata": {},
     "output_type": "execute_result"
    }
   ],
   "source": [
    "var('s,t')\n",
    "solve([6*s+3*t==2,5*s+10*t==6,-2*s+2*t==1],[s,t])"
   ]
  },
  {
   "cell_type": "code",
   "execution_count": 7,
   "metadata": {},
   "outputs": [
    {
     "data": {
      "text/html": [
       "<html><script type=\"math/tex; mode=display\">\\newcommand{\\Bold}[1]{\\mathbf{#1}}\\left(\\begin{array}{rrrrr}\n",
       "1 & 1 & 0 & 0 & 300 \\\\\n",
       "1 & 0 & -1 & 0 & 100 \\\\\n",
       "0 & 1 & 0 & -1 & -100 \\\\\n",
       "0 & 0 & 1 & 1 & 300\n",
       "\\end{array}\\right)</script></html>"
      ],
      "text/plain": [
       "[   1    1    0    0  300]\n",
       "[   1    0   -1    0  100]\n",
       "[   0    1    0   -1 -100]\n",
       "[   0    0    1    1  300]"
      ]
     },
     "execution_count": 7,
     "metadata": {},
     "output_type": "execute_result"
    }
   ],
   "source": [
    "A=matrix([[1,1,0,0,300],[1,0,-1,0,100],[0,1,0,-1,-100],[0,0,1,1,300]])\n",
    "A"
   ]
  },
  {
   "cell_type": "code",
   "execution_count": 9,
   "metadata": {},
   "outputs": [
    {
     "data": {
      "text/html": [
       "<html><script type=\"math/tex; mode=display\">\\newcommand{\\Bold}[1]{\\mathbf{#1}}\\left(\\begin{array}{rrrrr}\n",
       "1 & 1 & 0 & 0 & 300 \\\\\n",
       "0 & -1 & -1 & 0 & -200 \\\\\n",
       "0 & 1 & 0 & -1 & -100 \\\\\n",
       "0 & 0 & 1 & 1 & 300\n",
       "\\end{array}\\right)</script></html>"
      ],
      "text/plain": [
       "[   1    1    0    0  300]\n",
       "[   0   -1   -1    0 -200]\n",
       "[   0    1    0   -1 -100]\n",
       "[   0    0    1    1  300]"
      ]
     },
     "execution_count": 9,
     "metadata": {},
     "output_type": "execute_result"
    }
   ],
   "source": [
    "A1=A.with_added_multiple_of_row(1,0,-1)\n",
    "A1"
   ]
  },
  {
   "cell_type": "code",
   "execution_count": 11,
   "metadata": {},
   "outputs": [
    {
     "data": {
      "text/html": [
       "<html><script type=\"math/tex; mode=display\">\\newcommand{\\Bold}[1]{\\mathbf{#1}}\\left(\\begin{array}{rrrrr}\n",
       "1 & 0 & -1 & 0 & 100 \\\\\n",
       "0 & 1 & 1 & 0 & 200 \\\\\n",
       "0 & 0 & -1 & -1 & -300 \\\\\n",
       "0 & 0 & 1 & 1 & 300\n",
       "\\end{array}\\right)</script></html>"
      ],
      "text/plain": [
       "[   1    0   -1    0  100]\n",
       "[   0    1    1    0  200]\n",
       "[   0    0   -1   -1 -300]\n",
       "[   0    0    1    1  300]"
      ]
     },
     "execution_count": 11,
     "metadata": {},
     "output_type": "execute_result"
    }
   ],
   "source": [
    "A2=A1.with_added_multiple_of_row(2,1,1)\n",
    "A2 =A2.with_added_multiple_of_row(0,1,1)\n",
    "A2 = A2.with_rescaled_row(1,-1)\n",
    "A2"
   ]
  },
  {
   "cell_type": "code",
   "execution_count": 12,
   "metadata": {},
   "outputs": [
    {
     "data": {
      "text/html": [
       "<html><script type=\"math/tex; mode=display\">\\newcommand{\\Bold}[1]{\\mathbf{#1}}\\left(\\begin{array}{rrrrr}\n",
       "1 & 0 & 0 & 1 & 400 \\\\\n",
       "0 & 1 & 0 & -1 & -100 \\\\\n",
       "0 & 0 & 1 & 1 & 300 \\\\\n",
       "0 & 0 & 0 & 0 & 0\n",
       "\\end{array}\\right)</script></html>"
      ],
      "text/plain": [
       "[   1    0    0    1  400]\n",
       "[   0    1    0   -1 -100]\n",
       "[   0    0    1    1  300]\n",
       "[   0    0    0    0    0]"
      ]
     },
     "execution_count": 12,
     "metadata": {},
     "output_type": "execute_result"
    }
   ],
   "source": [
    "A.echelon_form()"
   ]
  },
  {
   "cell_type": "code",
   "execution_count": 27,
   "metadata": {},
   "outputs": [
    {
     "data": {
      "text/html": [
       "<html><script type=\"math/tex; mode=display\">\\newcommand{\\Bold}[1]{\\mathbf{#1}}\\left(\\begin{array}{rrrr}\n",
       "5 & 0 & 0 & -1 \\\\\n",
       "12 & 0 & -2 & 0 \\\\\n",
       "1 & 2 & -1 & -2\n",
       "\\end{array}\\right)</script></html>"
      ],
      "text/plain": [
       "[ 5  0  0 -1]\n",
       "[12  0 -2  0]\n",
       "[ 1  2 -1 -2]"
      ]
     },
     "execution_count": 27,
     "metadata": {},
     "output_type": "execute_result"
    }
   ],
   "source": [
    "M=matrix(ZZ,[[5,0,0,-1],[12,0,-2,0],[1,2,-1,-2]])\n",
    "M"
   ]
  },
  {
   "cell_type": "code",
   "execution_count": 28,
   "metadata": {},
   "outputs": [
    {
     "data": {
      "text/html": [
       "<html><script type=\"math/tex; mode=display\">\\newcommand{\\Bold}[1]{\\mathbf{#1}}\\left(\\begin{array}{rrrr}\n",
       "1 & 2 & -1 & -2 \\\\\n",
       "12 & 0 & -2 & 0 \\\\\n",
       "5 & 0 & 0 & -1\n",
       "\\end{array}\\right)</script></html>"
      ],
      "text/plain": [
       "[ 1  2 -1 -2]\n",
       "[12  0 -2  0]\n",
       "[ 5  0  0 -1]"
      ]
     },
     "execution_count": 28,
     "metadata": {},
     "output_type": "execute_result"
    }
   ],
   "source": [
    "M1=M.with_swapped_rows(0,2)\n",
    "M1"
   ]
  },
  {
   "cell_type": "code",
   "execution_count": 29,
   "metadata": {},
   "outputs": [
    {
     "data": {
      "text/html": [
       "<html><script type=\"math/tex; mode=display\">\\newcommand{\\Bold}[1]{\\mathbf{#1}}\\left(\\begin{array}{rrrr}\n",
       "1 & 2 & -1 & -2 \\\\\n",
       "0 & -24 & 10 & 24 \\\\\n",
       "0 & -10 & 5 & 9\n",
       "\\end{array}\\right)</script></html>"
      ],
      "text/plain": [
       "[  1   2  -1  -2]\n",
       "[  0 -24  10  24]\n",
       "[  0 -10   5   9]"
      ]
     },
     "execution_count": 29,
     "metadata": {},
     "output_type": "execute_result"
    }
   ],
   "source": [
    "M2 = M1.with_added_multiple_of_row(1,0,-12)\n",
    "M2 = M2.with_added_multiple_of_row(2,0,-5)\n",
    "M2"
   ]
  },
  {
   "cell_type": "code",
   "execution_count": 30,
   "metadata": {},
   "outputs": [
    {
     "data": {
      "text/html": [
       "<html><script type=\"math/tex; mode=display\">\\newcommand{\\Bold}[1]{\\mathbf{#1}}\\left(\\begin{array}{rrrr}\n",
       "1 & 2 & -1 & -2 \\\\\n",
       "0 & 12 & -5 & -12 \\\\\n",
       "0 & -10 & 5 & 9\n",
       "\\end{array}\\right)</script></html>"
      ],
      "text/plain": [
       "[  1   2  -1  -2]\n",
       "[  0  12  -5 -12]\n",
       "[  0 -10   5   9]"
      ]
     },
     "execution_count": 30,
     "metadata": {},
     "output_type": "execute_result"
    }
   ],
   "source": [
    "M3 = M2.with_rescaled_row(1,-1/2)\n",
    "M3"
   ]
  },
  {
   "cell_type": "code",
   "execution_count": 31,
   "metadata": {},
   "outputs": [
    {
     "data": {
      "text/html": [
       "<html><script type=\"math/tex; mode=display\">\\newcommand{\\Bold}[1]{\\mathbf{#1}}\\left(\\begin{array}{rrrr}\n",
       "1 & 2 & -1 & -2 \\\\\n",
       "0 & 2 & 0 & -3 \\\\\n",
       "0 & -10 & 5 & 9\n",
       "\\end{array}\\right)</script></html>"
      ],
      "text/plain": [
       "[  1   2  -1  -2]\n",
       "[  0   2   0  -3]\n",
       "[  0 -10   5   9]"
      ]
     },
     "execution_count": 31,
     "metadata": {},
     "output_type": "execute_result"
    }
   ],
   "source": [
    "M4 = M3.with_added_multiple_of_row(1,2,1)\n",
    "M4"
   ]
  },
  {
   "cell_type": "code",
   "execution_count": 32,
   "metadata": {},
   "outputs": [
    {
     "data": {
      "text/html": [
       "<html><script type=\"math/tex; mode=display\">\\newcommand{\\Bold}[1]{\\mathbf{#1}}\\left(\\begin{array}{rrrr}\n",
       "1 & 0 & -1 & 1 \\\\\n",
       "0 & 2 & 0 & -3 \\\\\n",
       "0 & 0 & 5 & -6\n",
       "\\end{array}\\right)</script></html>"
      ],
      "text/plain": [
       "[ 1  0 -1  1]\n",
       "[ 0  2  0 -3]\n",
       "[ 0  0  5 -6]"
      ]
     },
     "execution_count": 32,
     "metadata": {},
     "output_type": "execute_result"
    }
   ],
   "source": [
    "M5 = M4.with_added_multiple_of_row(0,1,-1)\n",
    "M5 = M5.with_added_multiple_of_row(2,1,5)\n",
    "M5"
   ]
  },
  {
   "cell_type": "code",
   "execution_count": null,
   "metadata": {},
   "outputs": [],
   "source": []
  }
 ],
 "metadata": {
  "kernelspec": {
   "display_name": "SageMath 9.6",
   "language": "sage",
   "name": "sagemath"
  },
  "language_info": {
   "codemirror_mode": {
    "name": "ipython",
    "version": 3
   },
   "file_extension": ".py",
   "mimetype": "text/x-python",
   "name": "python",
   "nbconvert_exporter": "python",
   "pygments_lexer": "ipython3",
   "version": "3.8.10"
  }
 },
 "nbformat": 4,
 "nbformat_minor": 4
}
