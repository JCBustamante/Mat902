{
 "cells": [
  {
   "cell_type": "code",
   "execution_count": 5,
   "id": "f562c461",
   "metadata": {},
   "outputs": [
    {
     "data": {
      "text/plain": [
       "\\left[\\begin{array}{rrrr}\n",
       "1 & 0 & 0 & 0 \\\\\n",
       "0 & 0 & 0 & 1 \\\\\n",
       "0 & 0 & 1 & 0 \\\\\n",
       "0 & 1 & 0 & 0\n",
       "\\end{array}\\right]"
      ]
     },
     "execution_count": 5,
     "metadata": {},
     "output_type": "execute_result"
    }
   ],
   "source": [
    "latex(elementary_matrix(4, row1=1, row2=3))"
   ]
  },
  {
   "cell_type": "code",
   "execution_count": 2,
   "id": "87243123",
   "metadata": {},
   "outputs": [
    {
     "data": {
      "text/plain": [
       "[1 0 0 0]\n",
       "[0 0 0 1]\n",
       "[0 0 1 0]\n",
       "[0 1 0 0]"
      ]
     },
     "execution_count": 2,
     "metadata": {},
     "output_type": "execute_result"
    }
   ],
   "source": [
    "E = elementary_matrix(4, row1=1, row2=3)\n",
    "E "
   ]
  },
  {
   "cell_type": "code",
   "execution_count": 3,
   "id": "b6c33bbe",
   "metadata": {},
   "outputs": [],
   "source": [
    "latex.matrix_delimiters('[', ']')"
   ]
  },
  {
   "cell_type": "code",
   "execution_count": 4,
   "id": "3f4d85d9",
   "metadata": {},
   "outputs": [
    {
     "data": {
      "text/plain": [
       "\\left[\\begin{array}{rrrr}\n",
       "1 & 0 & 0 & 0 \\\\\n",
       "0 & 0 & 0 & 1 \\\\\n",
       "0 & 0 & 1 & 0 \\\\\n",
       "0 & 1 & 0 & 0\n",
       "\\end{array}\\right]"
      ]
     },
     "execution_count": 4,
     "metadata": {},
     "output_type": "execute_result"
    }
   ],
   "source": [
    "latex(E)"
   ]
  },
  {
   "cell_type": "code",
   "execution_count": 6,
   "id": "8fc8dd4a",
   "metadata": {},
   "outputs": [
    {
     "data": {
      "text/plain": [
       "\\left[\\begin{array}{rrrr}\n",
       "1 & 0 & 0 & 0 \\\\\n",
       "0 & 1 & 0 & 0 \\\\\n",
       "0 & 0 & 10 & 0 \\\\\n",
       "0 & 0 & 0 & 1\n",
       "\\end{array}\\right]"
      ]
     },
     "execution_count": 6,
     "metadata": {},
     "output_type": "execute_result"
    }
   ],
   "source": [
    "latex(elementary_matrix(4, row1=2, scale=10))"
   ]
  },
  {
   "cell_type": "code",
   "execution_count": 7,
   "id": "955a1683",
   "metadata": {},
   "outputs": [
    {
     "data": {
      "text/plain": [
       "\\left[\\begin{array}{rrr}\n",
       "1 & 0 & 0 \\\\\n",
       "0 & 1 & 0 \\\\\n",
       "0 & -10 & 1\n",
       "\\end{array}\\right]"
      ]
     },
     "execution_count": 7,
     "metadata": {},
     "output_type": "execute_result"
    }
   ],
   "source": [
    "latex(elementary_matrix(3, row1=2, row2=1, scale=-10))"
   ]
  },
  {
   "cell_type": "code",
   "execution_count": 27,
   "id": "cf879f53",
   "metadata": {},
   "outputs": [],
   "source": [
    "set_random_seed(21)\n",
    "A = random_matrix(ZZ, 3, 3, x=-6, y=6, density=0.85)\n",
    "E1 = elementary_matrix(3, row1=2, scale=10)\n",
    "E2 = elementary_matrix(3, row1=2, row2=1)\n",
    "E3 = elementary_matrix(3, row1=2, row2=0, scale = -10)\n",
    "B = random_matrix(ZZ, 3, 4, x=-6, y=6, density=0.95)"
   ]
  },
  {
   "cell_type": "code",
   "execution_count": 21,
   "id": "5db5c42a",
   "metadata": {},
   "outputs": [
    {
     "data": {
      "text/plain": [
       "\\left[\\begin{array}{rrr}\n",
       "1 & 0 & 0 \\\\\n",
       "0 & 1 & 0 \\\\\n",
       "0 & 0 & 10\n",
       "\\end{array}\\right]"
      ]
     },
     "execution_count": 21,
     "metadata": {},
     "output_type": "execute_result"
    }
   ],
   "source": [
    "latex(E1)"
   ]
  },
  {
   "cell_type": "code",
   "execution_count": 32,
   "id": "f32f4c03",
   "metadata": {},
   "outputs": [
    {
     "data": {
      "text/plain": [
       "\\left[\\begin{array}{rrr}\n",
       "1 & 0 & 0 \\\\\n",
       "0 & 1 & 0 \\\\\n",
       "-10 & 0 & 1\n",
       "\\end{array}\\right]"
      ]
     },
     "execution_count": 32,
     "metadata": {},
     "output_type": "execute_result"
    }
   ],
   "source": [
    "latex(E3)"
   ]
  },
  {
   "cell_type": "code",
   "execution_count": 14,
   "id": "e6087977",
   "metadata": {},
   "outputs": [
    {
     "data": {
      "text/plain": [
       "\\left[\\begin{array}{rrr}\n",
       "0 & 0 & -2 \\\\\n",
       "3 & -5 & 0 \\\\\n",
       "0 & -6 & 0\n",
       "\\end{array}\\right]"
      ]
     },
     "execution_count": 14,
     "metadata": {},
     "output_type": "execute_result"
    }
   ],
   "source": [
    "latex(A)"
   ]
  },
  {
   "cell_type": "code",
   "execution_count": 28,
   "id": "296d2015",
   "metadata": {},
   "outputs": [
    {
     "data": {
      "text/plain": [
       "\\left[\\begin{array}{rrrr}\n",
       "0 & -2 & -1 & 0 \\\\\n",
       "0 & 0 & 3 & 0 \\\\\n",
       "-6 & 0 & 0 & 4\n",
       "\\end{array}\\right]"
      ]
     },
     "execution_count": 28,
     "metadata": {},
     "output_type": "execute_result"
    }
   ],
   "source": [
    "latex(B)"
   ]
  },
  {
   "cell_type": "code",
   "execution_count": 29,
   "id": "ea215291",
   "metadata": {},
   "outputs": [
    {
     "data": {
      "text/plain": [
       "[ 0 -2 -1  0]\n",
       "[ 0  0  3  0]\n",
       "[-6  0  0  4]"
      ]
     },
     "execution_count": 29,
     "metadata": {},
     "output_type": "execute_result"
    }
   ],
   "source": [
    "B"
   ]
  },
  {
   "cell_type": "code",
   "execution_count": null,
   "id": "6d28f7cc",
   "metadata": {},
   "outputs": [],
   "source": []
  }
 ],
 "metadata": {
  "kernelspec": {
   "display_name": "SageMath 9.6",
   "language": "sage",
   "name": "sagemath"
  },
  "language_info": {
   "codemirror_mode": {
    "name": "ipython",
    "version": 3
   },
   "file_extension": ".py",
   "mimetype": "text/x-python",
   "name": "python",
   "nbconvert_exporter": "python",
   "pygments_lexer": "ipython3",
   "version": "3.8.10"
  }
 },
 "nbformat": 4,
 "nbformat_minor": 5
}
